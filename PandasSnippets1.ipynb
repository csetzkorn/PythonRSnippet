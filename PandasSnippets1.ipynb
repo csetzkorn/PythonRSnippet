{
 "cells": [
  {
   "cell_type": "markdown",
   "id": "39d7fc2f-3177-4f73-82ae-ac46fa2b8ad2",
   "metadata": {},
   "source": [
    "# Introduction\n",
    "\n",
    "* TODO"
   ]
  },
  {
   "cell_type": "markdown",
   "id": "c3d1e46f-e1d8-4996-bf13-026dca08dcd0",
   "metadata": {},
   "source": [
    "# Column Operations"
   ]
  },
  {
   "cell_type": "markdown",
   "id": "923ed084-d963-43a5-b8ad-ce7b1cb49e4d",
   "metadata": {},
   "source": [
    "## Select specific columns by integer\n",
    "\n",
    "Quick way to select columns for modeling presuming last column is target."
   ]
  },
  {
   "cell_type": "code",
   "execution_count": null,
   "id": "03b27e52-5c32-4c79-ae1e-bb8e9fc42e1b",
   "metadata": {},
   "outputs": [],
   "source": [
    "X = df.iloc[:,1:31] \n",
    "# last column\n",
    "y = df.iloc[:,-1]"
   ]
  },
  {
   "cell_type": "code",
   "execution_count": null,
   "id": "b5cf8cd4-2739-468d-98f9-80d18ce789ae",
   "metadata": {},
   "outputs": [],
   "source": []
  }
 ],
 "metadata": {
  "kernelspec": {
   "display_name": "Python 3 (ipykernel)",
   "language": "python",
   "name": "python3"
  },
  "language_info": {
   "codemirror_mode": {
    "name": "ipython",
    "version": 3
   },
   "file_extension": ".py",
   "mimetype": "text/x-python",
   "name": "python",
   "nbconvert_exporter": "python",
   "pygments_lexer": "ipython3",
   "version": "3.10.0"
  }
 },
 "nbformat": 4,
 "nbformat_minor": 5
}
